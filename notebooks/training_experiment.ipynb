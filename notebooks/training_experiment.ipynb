{
 "cells": [
  {
   "cell_type": "code",
   "execution_count": null,
   "id": "c334f8de",
   "metadata": {},
   "outputs": [],
   "source": [
    "from sklearn.model_selection import train_test_split\n",
    "from data_preprocessing import prepare_data\n",
    "\n",
    "# Tiền xử lý và chia dữ liệu\n",
    "train_data, test_data = prepare_data(data, text_column='processed_text', label_column='label')\n"
   ]
  },
  {
   "cell_type": "code",
   "execution_count": null,
   "id": "30d58c0b",
   "metadata": {},
   "outputs": [],
   "source": [
    "from transformers import AutoModelForSequenceClassification, AutoTokenizer\n",
    "\n",
    "model_name = \"vinai/phobert-base\"\n",
    "tokenizer = AutoTokenizer.from_pretrained(model_name)\n",
    "model = AutoModelForSequenceClassification.from_pretrained(model_name, num_labels=3)\n"
   ]
  },
  {
   "cell_type": "code",
   "execution_count": null,
   "id": "3a625c79",
   "metadata": {},
   "outputs": [],
   "source": [
    "from torch.utils.data import DataLoader\n",
    "from data_preprocessing import create_dataloader\n",
    "\n",
    "train_loader = create_dataloader(train_data, tokenizer)\n",
    "test_loader = create_dataloader(test_data, tokenizer)\n"
   ]
  },
  {
   "cell_type": "code",
   "execution_count": null,
   "id": "644d3384",
   "metadata": {},
   "outputs": [],
   "source": [
    "from torch.optim import AdamW\n",
    "from train import train_model\n",
    "\n",
    "optimizer = AdamW(model.parameters(), lr=2e-5)\n",
    "train_model(model, train_loader, optimizer, device='cuda', epochs=3)\n"
   ]
  },
  {
   "cell_type": "code",
   "execution_count": null,
   "id": "6fa5c026",
   "metadata": {},
   "outputs": [],
   "source": [
    "from evaluate import evaluate_model\n",
    "\n",
    "evaluate_model(model, test_loader, device='cuda')\n"
   ]
  },
  {
   "cell_type": "code",
   "execution_count": null,
   "id": "cb08c4f9",
   "metadata": {},
   "outputs": [],
   "source": [
    "from train import save_model\n",
    "\n",
    "save_model(model, 'phobert_model.pt')\n"
   ]
  }
 ],
 "metadata": {
  "language_info": {
   "name": "python"
  }
 },
 "nbformat": 4,
 "nbformat_minor": 5
}
